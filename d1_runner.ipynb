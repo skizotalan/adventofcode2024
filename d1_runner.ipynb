{
 "cells": [
  {
   "cell_type": "code",
   "execution_count": 10,
   "metadata": {},
   "outputs": [],
   "source": [
    "import helpers.config as cfg\n",
    "import helpers.functions as fnc"
   ]
  },
  {
   "cell_type": "code",
   "execution_count": 16,
   "metadata": {},
   "outputs": [],
   "source": [
    "d1_input = cfg.d1_input\n",
    "\n",
    "# Split the data into lines\n",
    "lines = d1_input.strip().split('\\n')\n",
    "\n",
    "# Initialize two empty arrays\n",
    "array1 = []\n",
    "array2 = []\n",
    "\n",
    "# Iterate over each line and split the numbers\n",
    "for line in lines:\n",
    "  num1, num2 = map(int, line.split())\n",
    "  array1.append(num1)\n",
    "  array2.append(num2)\n"
   ]
  },
  {
   "cell_type": "code",
   "execution_count": 9,
   "metadata": {},
   "outputs": [
    {
     "name": "stdout",
     "output_type": "stream",
     "text": [
      "1388114\n"
     ]
    }
   ],
   "source": [
    "d1_ansewer = fnc.get_d1_1()\n",
    "\n",
    "print(d1_ansewer)"
   ]
  },
  {
   "cell_type": "code",
   "execution_count": null,
   "metadata": {},
   "outputs": [],
   "source": [
    "array1_num_dict = {}\n",
    "\n",
    "for num in array1:\n",
    "  count_in_array2 = 0\n",
    "\n",
    "  for num2 in array2:\n",
    "    if num == num2:\n",
    "      count_in_array2 += 1\n",
    "\n",
    "  array1_num_dict[num] = count_in_array2  \n",
    "\n"
   ]
  },
  {
   "cell_type": "code",
   "execution_count": 21,
   "metadata": {},
   "outputs": [
    {
     "name": "stdout",
     "output_type": "stream",
     "text": [
      "23529853\n"
     ]
    }
   ],
   "source": [
    "similarity_sum = 0\n",
    "\n",
    "for num in array1:\n",
    "  similarity_sum += array1_num_dict[num] * num\n",
    "\n",
    "print(similarity_sum)"
   ]
  }
 ],
 "metadata": {
  "kernelspec": {
   "display_name": "Python 3",
   "language": "python",
   "name": "python3"
  },
  "language_info": {
   "codemirror_mode": {
    "name": "ipython",
    "version": 3
   },
   "file_extension": ".py",
   "mimetype": "text/x-python",
   "name": "python",
   "nbconvert_exporter": "python",
   "pygments_lexer": "ipython3",
   "version": "3.11.6"
  }
 },
 "nbformat": 4,
 "nbformat_minor": 2
}
